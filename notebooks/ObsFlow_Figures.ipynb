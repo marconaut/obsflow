{
 "cells": [
  {
   "cell_type": "code",
   "execution_count": null,
   "outputs": [],
   "source": [
    "            ## Make Plots from Climatologies Produced with ObsFlow\n",
    "### Getting an overview of the catalogue and the various files "
   ],
   "metadata": {
    "collapsed": false
   }
  },
  {
   "cell_type": "code",
   "execution_count": null,
   "outputs": [],
   "source": [
    "import xarray as xr\n",
    "import matplotlib.pyplot as plt\n",
    "import xscen as xs\n",
    "import cartopy.crs as ccrs\n",
    "import cartopy\n",
    "from xscen.config import CONFIG\n",
    "from xclim.core import units\n",
    "from pathlib import Path\n",
    "\n",
    "%matplotlib inline\n",
    "out_dir = '/scen3/braun/data/obs_synthese23/image'\n",
    "# get the ObsFlow config and project catalog\n",
    "xs.load_config('/home/braun/python/obsflow/paths_obs.yml', '/home/braun/python/obsflow/config_obs.yml', verbose=(__name__ == \"__main__\"), reset=True)\n",
    "pcat = xs.ProjectCatalog('/scen3/braun/data/obs_synthese23/pcat_obs.json')\n",
    "display(pcat.df)\n",
    "ds_dict = pcat.search(processing_level='climatology').to_dataset_dict(**CONFIG['to_dataset_dict'])\n",
    "# remove AHCCD for now\n",
    "ds_dict = {k: v for k, v in sorted(ds_dict.items()) if 'AHCCD' not in k}\n",
    "\n",
    "for ds_id, ds_in in ds_dict.items():\n",
    "    # inspect the dataset\n",
    "    # print(f'{ds_id}: {ds_in.period.values}')\n",
    "    # print(f'{ds_id}: {list(ds_in.data_vars.keys())}')\n",
    "    print(f'{ds_id}: {list(ds_in.dims.keys())}')\n",
    "    \n",
    "print('\\n\\n')\n",
    "\n",
    "for ds_id, ds_clim in ds_dict.items():\n",
    "    if 'GovCan_RDRS' in ds_id:\n",
    "        print(f'{ds_id}:')\n",
    "        display(ds_dict[ds_id])"
   ],
   "metadata": {
    "collapsed": false
   }
  },
  {
   "cell_type": "code",
   "execution_count": null,
   "outputs": [],
   "source": [
    "fig, axs = plt.subplots(1,2, figsize=(15, 6))\n",
    "\n",
    "#ds_dict['GovCan_RDRS_NAM.Quebec.climatology.QS-DEC'].tg_mean.sel(period='1981-2010', season='JJA').plot(ax=axs[0])\n",
    "#ds_dict['GovCan_RDRS_NAM.Quebec.climatology.fx'].tas_mean_sea.sel(period='1981-2010', season='JJA').plot(ax=axs[1])\n",
    "ds_dict['GovCan_RDRS_NAM.Quebec.climatology.MS'].tg_mean.sel(period='1981-2010', month='JAN').plot(ax=axs[0])\n",
    "ds_dict['GovCan_RDRS_NAM.Quebec.climatology.fx'].tas_mean_mon.sel(period='1981-2010', month='JAN').plot(ax=axs[1])\n",
    "\n",
    "print(sorted([f'{name}' for name in ds_dict['GovCan_RDRS_NAM.Quebec.climatology.fx'].data_vars]))\n"
   ],
   "metadata": {
    "collapsed": false
   }
  },
  {
   "cell_type": "markdown",
   "source": [
    "### Note: Indicators were computed per year/season/month"
   ],
   "metadata": {
    "collapsed": false
   }
  },
  {
   "cell_type": "code",
   "execution_count": null,
   "outputs": [],
   "source": [
    "ds = xr.open_dataset('/scen3/braun/data/obs_synthese23/indicators/ECMWF_ERA5-Land_NAM_MS_indicators.zarr', engine='zarr')\n",
    "ds"
   ],
   "metadata": {
    "collapsed": false
   }
  },
  {
   "cell_type": "markdown",
   "source": [
    "### Getting some info about the structure of individual files"
   ],
   "metadata": {
    "collapsed": false
   }
  },
  {
   "cell_type": "code",
   "execution_count": null,
   "outputs": [],
   "source": [
    "#ds = ds_dict['GovCan_RDRS_NAM.Quebec.climatology.fx']\n",
    "#ds = ds_dict['ECMWF_ERA5-Land_NAM.Quebec.climatology.fx']\n",
    "#ds = ds_dict['GovCan_AHCCD_CAN_fx_climatology.zarr']\n",
    "#ds = ds_dict['MRCC5_ECMWF-ERAint75_OURANOS_CRCM5_historical_NAM-22_bcs.NAM-22.climatology.fx']\n",
    "#ds = ds_dict['MRCC5_ECMWF-ERAint75_OURANOS_CRCM5_historical_NAM-22_bcs.NAM-22.climatology.QS-DEC']\n",
    "display(ds)\n",
    "for ind in ds.data_vars.values():\n",
    "    print(f'{ind.name}: {ind.dims}')\n",
    "    sp_dim = [dim for dim in ind.dims if dim not in [v[0] for v in ds.cf.axes.values()] + ['period']]\n",
    "    print(f'{ind.name}: {sp_dim}')\n",
    "\n",
    "print([v[0] for v in ds.cf.axes.values()]) #.append('period'))\n",
    "\n",
    "ds.cf.axes.values()\n",
    "ds.tas_mean_ann.sel(period='1991-2018').plot(y='lat', x='lon')\n",
    "#ds.tg_mean.sel(period='1980-1985', season='MAM').plot(y='rlat', x='rlon')\n"
   ],
   "metadata": {
    "collapsed": false
   }
  },
  {
   "cell_type": "markdown",
   "source": [
    "## Making the plots for all stats"
   ],
   "metadata": {
    "collapsed": false
   }
  },
  {
   "cell_type": "code",
   "execution_count": null,
   "outputs": [],
   "source": [
    "import xarray as xr\n",
    "import matplotlib.pyplot as plt\n",
    "import xscen as xs\n",
    "import cartopy.crs as ccrs\n",
    "import cartopy\n",
    "from xscen.config import CONFIG\n",
    "from xclim.core import units\n",
    "from pathlib import Path\n",
    "import numpy as np\n",
    "\n",
    "out_dir = '/scen3/braun/data/obs_synthese23/image'\n",
    "# get the ObsFlow config and project catalog\n",
    "#xs.load_config('/home/braun/python/obsflow/paths_obs.yml', '/home/braun/python/obsflow/config_obs.yml', verbose=(__name__ == \"__main__\"), reset=True)\n",
    "pcat = xs.ProjectCatalog('/scen3/braun/data/obs_synthese23/pcat_obs.json')\n",
    "# display(pcat.df)\n",
    "ds_dict = pcat.search(processing_level='climatology').to_dataset_dict(decode_time_delta=False)\n",
    "# remove AHCCD for now\n",
    "ds_dict = {k: v for k, v in sorted(ds_dict.items()) if 'AHCCD' not in k}\n",
    "\n",
    "# Plot the climatologies\n",
    "for ds_id, ds_in in ds_dict.items():\n",
    "    # print(f'{ds_id}: {ds_in.period.values}')\n",
    "    # print(f'{ds_id}: {list(ds_in.data_vars.keys())}')\n",
    "\n",
    "    # TODO This is just a fix for now\n",
    "    if 'MRCC' in ds_id:\n",
    "        ds_in.attrs['source'] = 'CRCM5-ERAint'\n",
    "    #if 'MRCC' not in ds_id: continue\n",
    "    #if 'ECMWF_ERA5-Land_NAM.Quebec.climatology.fx' not in ds_id: continue\n",
    "\n",
    "    # make a plot for each period in the dataset\n",
    "    print(f'Doing: {ds_id}')\n",
    "    #display(ds_in)\n",
    "    for period in ds_in.period.values:\n",
    "        for ind in ds_in.data_vars.values():\n",
    "            # skip doubles and non-desired\n",
    "            skip = ['tas_mean_ann', 'tas_mean_mon', 'tas_mean_sea', 'tasmax_mean_ann', 'tasmax_mean_mon', 'tasmax_mean_sea', 'tasmin_mean_ann', 'tasmin_mean_mon', 'tasmin_mean_sea', 'tas_std_ann', 'tas_std_mon', 'tas_std_sea',  'tasmax_std_ann', 'tasmax_std_mon', 'tasmax_std_sea', 'tasmin_std_ann', 'tasmin_std_mon', 'tasmin_std_sea', 'tn_days_above_20', 'tn_days_above_20_std'] \n",
    "            if ind.name not in skip:\n",
    "                # create the plot ID (maybe done in cleanup?)\n",
    "                plot_id = f\"{ind.attrs['long_name'].lower()} - {ds_in.attrs['source']} ({period})\"\n",
    "                plot_id = plot_id.replace('standard deviation', 'std')\n",
    "                plot_id = plot_id.replace('30-year ', '').replace('.', '')\n",
    "                # tg_mean_clim_mean, tg_mean_clim_std, tg_std_clim_mean, tg_std_clim_total\n",
    "                # replace things in the plot_id \n",
    "                labels = {'_mean_clim-mean': '', '_mean_clim-std': 'interannual', '_std_clim-mean': 'intra', '_std_clim-total': 'total'}\n",
    "                plot_id = plot_id.replace(plot_id.split(' ')[0], f\"{[labels[key] for key in labels.keys() if key in ind.name][0]} \"\n",
    "                                                                 f\"{[t for t in ['annual', 'seasonal', 'monthly'] if t in plot_id][0]} climate \" + plot_id.split(' ')[0]).strip()\n",
    "                if 'interannual' in plot_id: plot_id = plot_id.replace(' '.join(plot_id.split(' ')[1:3]), '').replace('  ', ' ').strip()\n",
    "                if 'intra' in plot_id: \n",
    "                    id_words = plot_id.split(' ')\n",
    "                    #plot_id = plot_id.replace(' '.join(id_words[0:6]), f\"{' '.join(id_words[1:5])} {' '.join(id_words[0])}-{' '.join(id_words[5:])}\").replace('  ', ' ').strip() # I would call this: \"climate average of intra-annual/seasonal/monthly std of ...\"\n",
    "                    plot_id = plot_id.replace(' '.join(plot_id.split(' ')[2:6]), '').replace('  ', ' ').strip()\n",
    "                if 'total' in plot_id: plot_id = plot_id.replace(' '.join(plot_id.split(' ')[3:5]), '').replace('  ', ' ').strip()\n",
    "                print(f'\\tPlotting {ind.name}: {plot_id} ...')\n",
    "                #display(ind)\n",
    "                # print(f'{ds_id}: {var} \\n\\t{ds_in[var].attrs[\"long_name\"]}')\n",
    "    \n",
    "                # inspect the variable and determine for plotting:\n",
    "                # tmp_dim = do we plot one (annual), 4 (seasonal) or 12 (monthly) plots?\n",
    "                tmp_dim = [dim for dim in ind.dims if dim not in ['lat', 'lon', 'rlat', 'rlon', 'period']] #[v[0] for v in ds.cf.axes.values()] + ['period']]\n",
    "                if not tmp_dim: tmp_dim = [1]\n",
    "                # select the data for annual and sort for seasonal\n",
    "                sel_kwargs = {'year': 'ANN'} if tmp_dim[0] == 'year' else {}\n",
    "                if tmp_dim[0] == 'season': sel_kwargs = {'season': ['DJF', 'MAM', 'JJA', 'SON']} # setting the order here, too!\n",
    "                if tmp_dim[0] == 'month': sel_kwargs = {'month': ['JAN', 'FEB', 'MAR', 'APR', 'MAY', 'JUN', 'JUL', 'AUG', 'SEP','OCT', 'NOV', 'DEC']}\n",
    "                # how to arrange subplots\n",
    "                col = {1: None, 'year': None, 'season': 'season', 'month': 'month'}\n",
    "                col_wrap = {1: None, 'year': None, 'season': 2, 'month': 3}\n",
    "                # colors to use\n",
    "                ticks = None\n",
    "                if 'std' in ind.name:\n",
    "                    cmap = 'afmhot_r'\n",
    "                    cbar_lim = {1: [0, 5], 'year': [0, 5], 'season': [0, 5], 'month': [0, 5]} #list(range(-30, 31, 3))}\n",
    "                    levels = [0, 0.5, 1, 2, 3, 4, 5, 7.5, 10, 12.5, 15, 20]\n",
    "                    ticks = levels\n",
    "                elif any(s in ind.name for s in ['tg', 'tn', 'tx', 'tas']): \n",
    "                    cmap = 'RdBu_r'\n",
    "                    cbar_lim = {1: [-15, 15], 'year': [-15, 15], 'season': [-30, 30], 'month': [-30, 30]} #list(range(-30, 31, 3))}\n",
    "                    levels = 21\n",
    "                    ticks = np.linspace(cbar_lim[tmp_dim[0]][0], cbar_lim[tmp_dim[0]][1], levels)[0::2]\n",
    "                \n",
    "                # convert from K to degC ToDo: Do in cleanup of workflow!\n",
    "                if ind.attrs['units'] == 'K' and 'std' not in ind.name:\n",
    "                    ind = units.convert_units_to(ind, 'degC')\n",
    "    \n",
    "                # make the plot\n",
    "                print(f'\\t{tmp_dim[0]} - {col[tmp_dim[0]]} - {col_wrap[tmp_dim[0]]}')\n",
    "                frame = ind.sel(period=period, **sel_kwargs).plot.contourf(\n",
    "                    transform=ccrs.PlateCarree(),\n",
    "                    x='lon', y='lat',\n",
    "                    col=col[tmp_dim[0]], col_wrap=col_wrap[tmp_dim[0]],\n",
    "                    subplot_kws={'projection': ccrs.LambertConformal()},\n",
    "                    cbar_kwargs={'shrink': 0.9, 'ticks': ticks},\n",
    "                    cmap=cmap, levels=levels,\n",
    "                    vmin=cbar_lim[tmp_dim[0]][0], vmax=cbar_lim[tmp_dim[0]][1],                                                  \n",
    "                    add_labels=False,\n",
    "                );\n",
    "    \n",
    "                # get the figure object to add a title, coastlines, configure the axes\n",
    "                if isinstance(frame, xr.plot.facetgrid.FacetGrid): fig = frame.fig\n",
    "                if isinstance(frame, cartopy.mpl.contour.GeoContourSet): fig = frame.axes.figure\n",
    "                 \n",
    "                \n",
    "                # decorate\n",
    "                fig.axes[-1].set_ylabel(f'Temperature ({ind.attrs[\"units\"]})')\n",
    "                if tmp_dim[0] in {'month', 'season'}:\n",
    "                    for ax, title in zip(frame.axes.flat, sel_kwargs[tmp_dim[0]]):\n",
    "                        ax.set_title(title)\n",
    "                        \n",
    "                fig.suptitle(plot_id.capitalize(), y=1.03, wrap=True);\n",
    "    \n",
    "                for ax in fig.axes:\n",
    "                    #print(f'{ax} which is a {type(ax)}')\n",
    "                    if isinstance(ax, cartopy.mpl.geoaxes.GeoAxes):\n",
    "                        ax.coastlines()\n",
    "                        ax.margins(0)\n",
    "                        # TODO This is just a fix for CRCM5-ERAint\n",
    "                        if 'MRCC' in ds_id:\n",
    "                            ax.set_extent([-150, -40, 24, 70], crs=ccrs.PlateCarree())\n",
    "                        else:\n",
    "                            ax.set_extent([-79, -60, 45, 61], crs=ccrs.PlateCarree())\n",
    "    \n",
    "                # save the figure and close it\n",
    "                out_dir = Path('/scen3/braun/data/obs_synthese23/image') / period\n",
    "                if not out_dir.exists(): out_dir.mkdir(parents=True, exist_ok=True)\n",
    "                file_name = plot_id.replace(' ', '_').replace('(', '').replace(')', '').replace('.', '').replace('-_', '')\n",
    "                print(f'Writing {out_dir}/{file_name}.png')\n",
    "                fig.savefig(f\"{out_dir}/{file_name}.png\".replace(' ', '_'), bbox_inches='tight', dpi=300)\n",
    "                display(fig)\n",
    "                plt.close(fig)\n",
    "\n",
    "print('All Done!')"
   ],
   "metadata": {
    "collapsed": false
   }
  },
  {
   "cell_type": "code",
   "execution_count": null,
   "outputs": [],
   "source": [
    "np.linspace(-30, 30, 21)[0::2]"
   ],
   "metadata": {
    "collapsed": false
   }
  },
  {
   "cell_type": "code",
   "execution_count": null,
   "outputs": [],
   "source": [
    "plot_id = f\"{ind.attrs['long_name'].lower()} - {ds_in.attrs['source']} ({period})\"\n",
    "#plot_id = \"30-year_mean_of_monthly_mean_of_daily_maximum_temperature_ERA5-Land_1951-1980\".replace('_', ' ')\n",
    "if '30-year std' in plot_id: plot_id = plot_id.replace('30-year std of ', 'Interannual std of the ')\n",
    "if '30-year mean' in plot_id: \n",
    "    plot_id = plot_id.replace('30-year mean of ', '')\n",
    "    plot_id = plot_id.replace(plot_id.split(' ')[0], plot_id.split(' ')[0].capitalize() + ' climate')\n",
    "\n",
    "print(plot_id)\n",
    "print(plot_id.replace(' ', '_').replace('(', '').replace(')', '').replace('-_', ''))"
   ],
   "metadata": {
    "collapsed": false
   }
  },
  {
   "cell_type": "code",
   "execution_count": null,
   "outputs": [],
   "source": [
    "import datetime\n",
    "print([datetime.date(2000, m, 1).strftime('%^b') for m in range(1, 13)])\n",
    "\n",
    "txt = 'my annual mean of the best things I did with girls in my life'\n",
    "bla = [t for t in ['annual', 'seasonal', 'monthly'] if t in txt][0]\n",
    "print('hello, it''s ' + bla +',baby!')\n",
    "\n",
    "\n",
    "labels = {'_mean_clim-mean': '', '_mean_clim-std': 'interannual std', '_std_clim-mean': 'intra', '_std_clim-total': 'total'}\n",
    "var = 'tg_mean_clim-std'\n",
    "print([labels[key] for key in labels.keys() if key in var][0])"
   ],
   "metadata": {
    "collapsed": false
   }
  },
  {
   "cell_type": "code",
   "execution_count": null,
   "outputs": [],
   "source": [
    "ind.name\n"
   ],
   "metadata": {
    "collapsed": false
   }
  },
  {
   "cell_type": "code",
   "execution_count": null,
   "outputs": [],
   "source": [],
   "metadata": {
    "collapsed": false
   }
  }
 ],
 "metadata": {
  "kernelspec": {
   "name": "obsflow",
   "language": "python",
   "display_name": "obsflow"
  },
  "language_info": {
   "codemirror_mode": {
    "name": "ipython",
    "version": 2
   },
   "file_extension": ".py",
   "mimetype": "text/x-python",
   "name": "python",
   "nbconvert_exporter": "python",
   "pygments_lexer": "ipython2",
   "version": "2.7.6"
  }
 },
 "nbformat": 4,
 "nbformat_minor": 0
}
